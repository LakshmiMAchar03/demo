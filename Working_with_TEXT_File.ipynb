{
 "cells": [
  {
   "cell_type": "markdown",
   "id": "82f97222-7ace-433e-b31c-9fb3827b00a2",
   "metadata": {},
   "source": [
    "- Let's see how to read from the text files:"
   ]
  },
  {
   "cell_type": "markdown",
   "id": "b50edf3e-0fc4-4e55-a9de-7924af82fd02",
   "metadata": {},
   "source": [
    "##### Creating a text file file1.txt"
   ]
  },
  {
   "cell_type": "code",
   "execution_count": 42,
   "id": "c574c187-296d-47aa-9b05-70c8bc216a18",
   "metadata": {},
   "outputs": [
    {
     "name": "stdout",
     "output_type": "stream",
     "text": [
      "Writing file.txt\n"
     ]
    }
   ],
   "source": [
    "%%writefile file.txt\n",
    "Hi I am Text file\n",
    "This is first line"
   ]
  },
  {
   "cell_type": "code",
   "execution_count": 44,
   "id": "e1f99879-37b7-407f-9d97-e88798d9a660",
   "metadata": {},
   "outputs": [],
   "source": [
    "f1 = open('file.txt')"
   ]
  },
  {
   "cell_type": "code",
   "execution_count": 46,
   "id": "b21c62c1-1f78-4450-b27b-dc5b30d6489d",
   "metadata": {},
   "outputs": [
    {
     "data": {
      "text/plain": [
       "<_io.TextIOWrapper name='file.txt' mode='r' encoding='cp1252'>"
      ]
     },
     "execution_count": 46,
     "metadata": {},
     "output_type": "execute_result"
    }
   ],
   "source": [
    "f1"
   ]
  },
  {
   "cell_type": "code",
   "execution_count": 14,
   "id": "762810e9-38c5-433b-bb1d-33f3ad8f2edc",
   "metadata": {},
   "outputs": [],
   "source": [
    "# io.TextIOWrapper is a class used to handle text file I/O operations in Python. \n",
    "# Here, it indicates that the file file1.txt is opened in read mode (r)  \n",
    "# with the cp1252 encoding for processing text"
   ]
  },
  {
   "cell_type": "markdown",
   "id": "d74594fd-044f-44bc-bfb2-5997fb983ac4",
   "metadata": {},
   "source": [
    "To read the text file "
   ]
  },
  {
   "cell_type": "code",
   "execution_count": 48,
   "id": "dc43bb1e-4b62-4a91-8236-b0fb16f13945",
   "metadata": {},
   "outputs": [
    {
     "data": {
      "text/plain": [
       "'Hi I am Text file\\nThis is first line\\n'"
      ]
     },
     "execution_count": 48,
     "metadata": {},
     "output_type": "execute_result"
    }
   ],
   "source": [
    "f1.read()"
   ]
  },
  {
   "cell_type": "markdown",
   "id": "3e7c0cbf-e0cb-428f-aa77-7a9056205b76",
   "metadata": {},
   "source": [
    "Trying reading again"
   ]
  },
  {
   "cell_type": "code",
   "execution_count": 50,
   "id": "4b968138-831d-4631-8055-4c4c64dd3a8e",
   "metadata": {},
   "outputs": [
    {
     "data": {
      "text/plain": [
       "''"
      ]
     },
     "execution_count": 50,
     "metadata": {},
     "output_type": "execute_result"
    }
   ],
   "source": [
    "f1.read()\n",
    "# the point is at the last index here"
   ]
  },
  {
   "cell_type": "markdown",
   "id": "c41a1a9d-d66f-4d54-87b4-c651daf35f6b",
   "metadata": {},
   "source": [
    "So, to read again use the seek function"
   ]
  },
  {
   "cell_type": "code",
   "execution_count": 52,
   "id": "9b690a62-257b-4f19-852b-c0932cdcbe49",
   "metadata": {},
   "outputs": [
    {
     "data": {
      "text/plain": [
       "0"
      ]
     },
     "execution_count": 52,
     "metadata": {},
     "output_type": "execute_result"
    }
   ],
   "source": [
    "f1.seek(0)"
   ]
  },
  {
   "cell_type": "code",
   "execution_count": 54,
   "id": "d54f2333-3dce-4aac-a815-a345d67b772f",
   "metadata": {},
   "outputs": [
    {
     "data": {
      "text/plain": [
       "'Hi I am Text file\\nThis is first line\\n'"
      ]
     },
     "execution_count": 54,
     "metadata": {},
     "output_type": "execute_result"
    }
   ],
   "source": [
    "f1.read()"
   ]
  },
  {
   "cell_type": "code",
   "execution_count": 56,
   "id": "9ed8251a-3abf-4d85-aeba-4d484950cb71",
   "metadata": {},
   "outputs": [
    {
     "data": {
      "text/plain": [
       "0"
      ]
     },
     "execution_count": 56,
     "metadata": {},
     "output_type": "execute_result"
    }
   ],
   "source": [
    "f1.seek(0) # always seek to 0th index to read from first"
   ]
  },
  {
   "cell_type": "markdown",
   "id": "2123c967-1755-4353-8b4a-b972d3f0401b",
   "metadata": {},
   "source": [
    "readline() - reads line by line"
   ]
  },
  {
   "cell_type": "code",
   "execution_count": 58,
   "id": "233da94c-f0cf-4227-b722-69df2187aa4b",
   "metadata": {},
   "outputs": [
    {
     "data": {
      "text/plain": [
       "'Hi I am Text file\\n'"
      ]
     },
     "execution_count": 58,
     "metadata": {},
     "output_type": "execute_result"
    }
   ],
   "source": [
    "f1.readline()"
   ]
  },
  {
   "cell_type": "code",
   "execution_count": 60,
   "id": "141dd7d6-d36f-437e-8c73-04182ab16ded",
   "metadata": {},
   "outputs": [
    {
     "data": {
      "text/plain": [
       "'This is first line\\n'"
      ]
     },
     "execution_count": 60,
     "metadata": {},
     "output_type": "execute_result"
    }
   ],
   "source": [
    "f1.readline()"
   ]
  },
  {
   "cell_type": "code",
   "execution_count": 62,
   "id": "52cefad8-2e38-444a-9f91-c799f3bfb6c0",
   "metadata": {},
   "outputs": [
    {
     "data": {
      "text/plain": [
       "0"
      ]
     },
     "execution_count": 62,
     "metadata": {},
     "output_type": "execute_result"
    }
   ],
   "source": [
    "f1.seek(0)"
   ]
  },
  {
   "cell_type": "markdown",
   "id": "97c3218d-5b5c-4b96-9c94-319c7cd8fdf5",
   "metadata": {},
   "source": [
    "readlines() - reads all the lines"
   ]
  },
  {
   "cell_type": "code",
   "execution_count": 64,
   "id": "20a677ab-fdcd-450e-93e1-c8bab32c2304",
   "metadata": {},
   "outputs": [
    {
     "data": {
      "text/plain": [
       "['Hi I am Text file\\n', 'This is first line\\n']"
      ]
     },
     "execution_count": 64,
     "metadata": {},
     "output_type": "execute_result"
    }
   ],
   "source": [
    "f1.readlines()"
   ]
  },
  {
   "cell_type": "markdown",
   "id": "1c89273d-2ec9-4dee-931f-38ecaf770444",
   "metadata": {},
   "source": [
    "Since we have opened a file, we need to close the file"
   ]
  },
  {
   "cell_type": "code",
   "execution_count": 70,
   "id": "40932c5f-520f-451b-b833-9c0f11169c16",
   "metadata": {},
   "outputs": [],
   "source": [
    "f1.close()"
   ]
  },
  {
   "cell_type": "markdown",
   "id": "404b9f8d-69f5-47a1-a6bd-06099b880964",
   "metadata": {},
   "source": [
    "Checking if file is closed"
   ]
  },
  {
   "cell_type": "code",
   "execution_count": 73,
   "id": "d8d40a39-db02-4558-ac9b-275fa6b26b5d",
   "metadata": {},
   "outputs": [
    {
     "name": "stdout",
     "output_type": "stream",
     "text": [
      "True\n"
     ]
    }
   ],
   "source": [
    "print(f1.closed) # returns True because file is closed"
   ]
  },
  {
   "cell_type": "markdown",
   "id": "e6af6342-05e6-4461-8479-0d992dac6524",
   "metadata": {},
   "source": [
    "##### Creating and opening a file through open() function.\n",
    "\n",
    "- w and r mode"
   ]
  },
  {
   "cell_type": "code",
   "execution_count": 76,
   "id": "45188499-ec10-4d79-ac0b-27e973085efd",
   "metadata": {},
   "outputs": [],
   "source": [
    "file = open('f2.txt',mode=\"w\")"
   ]
  },
  {
   "cell_type": "code",
   "execution_count": 78,
   "id": "e8525dca-5afa-4a96-bd45-895557fba495",
   "metadata": {},
   "outputs": [
    {
     "data": {
      "text/plain": [
       "6"
      ]
     },
     "execution_count": 78,
     "metadata": {},
     "output_type": "execute_result"
    }
   ],
   "source": [
    "file.write(\"Hi,\")\n",
    "file.write(\"\\nHello\")"
   ]
  },
  {
   "cell_type": "code",
   "execution_count": 82,
   "id": "1e8d9082-42b3-4bd8-ab09-0f342e368303",
   "metadata": {},
   "outputs": [],
   "source": [
    "file.close()"
   ]
  },
  {
   "cell_type": "code",
   "execution_count": 88,
   "id": "03ee46ac-42a0-4f36-bf53-7f90605535b5",
   "metadata": {},
   "outputs": [],
   "source": [
    "file = open('f2.txt',mode='r')"
   ]
  },
  {
   "cell_type": "code",
   "execution_count": 90,
   "id": "5464ca1f-9738-4ca9-9108-9ba52b83d0a2",
   "metadata": {},
   "outputs": [
    {
     "data": {
      "text/plain": [
       "'Hi,\\nHello'"
      ]
     },
     "execution_count": 90,
     "metadata": {},
     "output_type": "execute_result"
    }
   ],
   "source": [
    "file.read()"
   ]
  },
  {
   "cell_type": "code",
   "execution_count": 92,
   "id": "7fd9a0d4-4504-4a02-b275-17736271d070",
   "metadata": {},
   "outputs": [],
   "source": [
    "file.close()"
   ]
  },
  {
   "cell_type": "markdown",
   "id": "20b2bc87-f899-4114-8b8d-b8094e1c7dd8",
   "metadata": {},
   "source": [
    "- w+ allows to read and write"
   ]
  },
  {
   "cell_type": "code",
   "execution_count": 98,
   "id": "2caeb6ea-8e4c-4ffc-a348-f58d9f07fa90",
   "metadata": {},
   "outputs": [],
   "source": [
    "file = open(\"f3.txt\",mode=\"w+\")"
   ]
  },
  {
   "cell_type": "code",
   "execution_count": 100,
   "id": "6f95a60f-7ad2-438d-a528-bfe9f0e16b6f",
   "metadata": {},
   "outputs": [
    {
     "data": {
      "text/plain": [
       "3"
      ]
     },
     "execution_count": 100,
     "metadata": {},
     "output_type": "execute_result"
    }
   ],
   "source": [
    "file.write(\"One\")\n",
    "file.write(\"Two\")"
   ]
  },
  {
   "cell_type": "code",
   "execution_count": 104,
   "id": "f1fd692a-54f2-4452-b1c2-3ff818551ef4",
   "metadata": {},
   "outputs": [
    {
     "data": {
      "text/plain": [
       "0"
      ]
     },
     "execution_count": 104,
     "metadata": {},
     "output_type": "execute_result"
    }
   ],
   "source": [
    "file.seek(0)"
   ]
  },
  {
   "cell_type": "code",
   "execution_count": 106,
   "id": "e3e9ae19-530d-40cc-8d05-d073efd939f6",
   "metadata": {},
   "outputs": [
    {
     "data": {
      "text/plain": [
       "'OneTwo'"
      ]
     },
     "execution_count": 106,
     "metadata": {},
     "output_type": "execute_result"
    }
   ],
   "source": [
    "file.read()"
   ]
  },
  {
   "cell_type": "code",
   "execution_count": 108,
   "id": "a4ed2aa5-7f52-4602-b84e-49182413059a",
   "metadata": {},
   "outputs": [],
   "source": [
    "file.close()"
   ]
  },
  {
   "cell_type": "markdown",
   "id": "7144ea31-d963-4fbc-9b5b-f886c73e94af",
   "metadata": {},
   "source": [
    "- Now for f3.txt let's append few more content\n",
    "- mode would be a or a+"
   ]
  },
  {
   "cell_type": "code",
   "execution_count": 111,
   "id": "10cb973b-d269-4250-b687-3370ea201972",
   "metadata": {},
   "outputs": [],
   "source": [
    "file = open('f3.txt',mode='a+')"
   ]
  },
  {
   "cell_type": "code",
   "execution_count": 113,
   "id": "a78838aa-d451-49d3-ae93-d9b3e8f28e08",
   "metadata": {},
   "outputs": [
    {
     "data": {
      "text/plain": [
       "5"
      ]
     },
     "execution_count": 113,
     "metadata": {},
     "output_type": "execute_result"
    }
   ],
   "source": [
    "file.write('\\nThree')\n",
    "file.write('\\nFour')\n",
    "file.write('\\nFive')"
   ]
  },
  {
   "cell_type": "code",
   "execution_count": 119,
   "id": "1e7215ac-c491-480c-9c80-6c4e4f8e8e01",
   "metadata": {},
   "outputs": [],
   "source": [
    "file.writelines(['\\nSix','\\nSeven','\\nEight'])"
   ]
  },
  {
   "cell_type": "code",
   "execution_count": 121,
   "id": "2341e815-f9a2-472d-8263-20f0fcdc0769",
   "metadata": {},
   "outputs": [],
   "source": [
    "file.close()"
   ]
  },
  {
   "cell_type": "code",
   "execution_count": 123,
   "id": "cb625e4d-761e-4d2b-9586-b81b5de6a80c",
   "metadata": {},
   "outputs": [],
   "source": [
    "file = open('f3.txt',mode='r')"
   ]
  },
  {
   "cell_type": "code",
   "execution_count": 125,
   "id": "c72b9d3c-1d86-4f9d-aad1-12d8b6367440",
   "metadata": {},
   "outputs": [
    {
     "data": {
      "text/plain": [
       "0"
      ]
     },
     "execution_count": 125,
     "metadata": {},
     "output_type": "execute_result"
    }
   ],
   "source": [
    "file.seek(0)"
   ]
  },
  {
   "cell_type": "code",
   "execution_count": 127,
   "id": "a736635c-f906-4efc-b174-cfb33ed73a80",
   "metadata": {},
   "outputs": [
    {
     "data": {
      "text/plain": [
       "'OneTwo\\nThree\\nFour\\nFive\\nSix\\nSeven\\nEight'"
      ]
     },
     "execution_count": 127,
     "metadata": {},
     "output_type": "execute_result"
    }
   ],
   "source": [
    "file.read()"
   ]
  },
  {
   "cell_type": "code",
   "execution_count": 129,
   "id": "97840247-09a2-4105-ae28-d2dd9d936237",
   "metadata": {},
   "outputs": [],
   "source": [
    "file.close()"
   ]
  },
  {
   "cell_type": "markdown",
   "id": "ed8ac184-b91c-4779-81df-3baa04206bae",
   "metadata": {},
   "source": [
    "##### Another way to open a file using with statement, it'll handle the activities automatically"
   ]
  },
  {
   "cell_type": "code",
   "execution_count": 184,
   "id": "74374cf6-1387-4be7-a83f-0d78e1f14af0",
   "metadata": {},
   "outputs": [],
   "source": [
    "with open('f5.txt', mode='a+') as file:\n",
    "    file.write('\\nThree')\n",
    "    file.write('\\nFour')\n",
    "    file.write('\\nFive')\n",
    "    file.writelines(['\\nSix', '\\nSeven', '\\nEight'])\n"
   ]
  },
  {
   "cell_type": "code",
   "execution_count": 186,
   "id": "bbe534dd-6906-4488-be60-ee54857cf20a",
   "metadata": {},
   "outputs": [
    {
     "name": "stdout",
     "output_type": "stream",
     "text": [
      "\n",
      "Three\n",
      "Four\n",
      "Five\n",
      "Six\n",
      "Seven\n",
      "Eight\n"
     ]
    }
   ],
   "source": [
    "with open('f5.txt',mode='r') as f:\n",
    "    print(f.read())"
   ]
  },
  {
   "cell_type": "markdown",
   "id": "dad50910-afe1-464e-a01e-3f63baac6d1b",
   "metadata": {},
   "source": [
    "##### Pointer operations\n",
    "- Seek() functionalities"
   ]
  },
  {
   "cell_type": "code",
   "execution_count": 188,
   "id": "20a86d3c-eb63-4060-b5f9-56af656b5d9d",
   "metadata": {},
   "outputs": [],
   "source": [
    "# .tell()\n",
    "f = open('f5.txt',mode='r')"
   ]
  },
  {
   "cell_type": "code",
   "execution_count": 190,
   "id": "128807ac-eec4-41b1-a0d9-f4672e0772e4",
   "metadata": {},
   "outputs": [
    {
     "data": {
      "text/plain": [
       "'\\nThree\\nFour\\nFive\\nSix\\nSeven\\nEight'"
      ]
     },
     "execution_count": 190,
     "metadata": {},
     "output_type": "execute_result"
    }
   ],
   "source": [
    "f.read()"
   ]
  },
  {
   "cell_type": "code",
   "execution_count": 192,
   "id": "2d0c59e8-3355-4a95-b153-6b9eb69334d3",
   "metadata": {},
   "outputs": [
    {
     "data": {
      "text/plain": [
       "38"
      ]
     },
     "execution_count": 192,
     "metadata": {},
     "output_type": "execute_result"
    }
   ],
   "source": [
    "f.tell()"
   ]
  },
  {
   "cell_type": "code",
   "execution_count": 194,
   "id": "efcdce66-f6b7-4d37-a3ad-e7a53166cf20",
   "metadata": {},
   "outputs": [],
   "source": [
    "# .seek(offset,whence)\n",
    "#  Moves the file pointer to a specific position.\n",
    "# offset: Number of bytes to move.whence: Reference point (0 for start, 1 for current, 2 for end)."
   ]
  },
  {
   "cell_type": "code",
   "execution_count": 196,
   "id": "7f703b82-dd25-4722-9558-93a1f0501822",
   "metadata": {},
   "outputs": [],
   "source": [
    "file = open('f6.txt',mode='w+')"
   ]
  },
  {
   "cell_type": "code",
   "execution_count": 200,
   "id": "25fa6b52-6844-4b33-9677-9c468e365e0f",
   "metadata": {},
   "outputs": [
    {
     "data": {
      "text/plain": [
       "21"
      ]
     },
     "execution_count": 200,
     "metadata": {},
     "output_type": "execute_result"
    }
   ],
   "source": [
    "file.write(\"Hello world!\")\n",
    "file.write(\"\\nPython is fun\")\n",
    "file.write(\"\\nFile handling is fun\")"
   ]
  },
  {
   "cell_type": "code",
   "execution_count": 202,
   "id": "6d256d4c-21f5-4a2e-af6b-34bf95c1fe4b",
   "metadata": {},
   "outputs": [
    {
     "data": {
      "text/plain": [
       "'Hello world!\\nPython is fun\\nFile handling is fun'"
      ]
     },
     "execution_count": 202,
     "metadata": {},
     "output_type": "execute_result"
    }
   ],
   "source": [
    "file.seek(0)\n",
    "file.read()"
   ]
  },
  {
   "cell_type": "code",
   "execution_count": 204,
   "id": "c74ffa3f-0a1b-4f36-b592-1a912bda3d99",
   "metadata": {},
   "outputs": [
    {
     "data": {
      "text/plain": [
       "0"
      ]
     },
     "execution_count": 204,
     "metadata": {},
     "output_type": "execute_result"
    }
   ],
   "source": [
    "file.seek(0)"
   ]
  },
  {
   "cell_type": "code",
   "execution_count": 206,
   "id": "36941a18-1306-4db6-922c-b835a28a43b4",
   "metadata": {},
   "outputs": [
    {
     "data": {
      "text/plain": [
       "'orld!'"
      ]
     },
     "execution_count": 206,
     "metadata": {},
     "output_type": "execute_result"
    }
   ],
   "source": [
    "file.seek(7,0) # 0 indicates the start of the file\n",
    "file.read(5) # reads 5 bytes starting from 7th position"
   ]
  },
  {
   "cell_type": "code",
   "execution_count": 220,
   "id": "f7da7344-39c4-4297-ae8d-cf88de3bbc3c",
   "metadata": {},
   "outputs": [],
   "source": [
    "file.close()"
   ]
  },
  {
   "cell_type": "markdown",
   "id": "29cbdafe-856e-47f4-9121-285a4c0d7556",
   "metadata": {},
   "source": [
    "##### Binary mode\n",
    "- Use 'rb', 'wb', 'ab' for working with binary files like images or audio."
   ]
  },
  {
   "cell_type": "code",
   "execution_count": 224,
   "id": "9f5fb8ce-fe98-44ef-b197-c0cd768b0002",
   "metadata": {},
   "outputs": [],
   "source": [
    "with open('example.bin', 'wb') as file:\n",
    "    file.write(b'Binary data')\n"
   ]
  },
  {
   "cell_type": "code",
   "execution_count": 226,
   "id": "1af63376-dee1-4dc1-b409-ae7a05c3c71a",
   "metadata": {},
   "outputs": [],
   "source": [
    "with open('example.bin', 'rb') as file:\n",
    "    data = file.read()"
   ]
  },
  {
   "cell_type": "code",
   "execution_count": 228,
   "id": "67e1d6e3-fbdd-4b9f-9bcf-9cbd1d3708a1",
   "metadata": {},
   "outputs": [
    {
     "data": {
      "text/plain": [
       "b'Binary data'"
      ]
     },
     "execution_count": 228,
     "metadata": {},
     "output_type": "execute_result"
    }
   ],
   "source": [
    "data"
   ]
  },
  {
   "cell_type": "markdown",
   "id": "985fcb43-a467-45a3-a96c-c69ccc6a0742",
   "metadata": {},
   "source": [
    "##### Few more functions "
   ]
  },
  {
   "cell_type": "code",
   "execution_count": 231,
   "id": "350dada8-9ce5-4d2f-888d-5d6785fc2d3b",
   "metadata": {},
   "outputs": [
    {
     "name": "stdout",
     "output_type": "stream",
     "text": [
      "f6.txt\n"
     ]
    }
   ],
   "source": [
    "# .name\n",
    "with open('f6.txt',mode='r') as f:\n",
    "    print(f.name)"
   ]
  },
  {
   "cell_type": "code",
   "execution_count": 233,
   "id": "2eec354e-8d83-48ed-b6f3-20528ed77b3b",
   "metadata": {},
   "outputs": [
    {
     "name": "stdout",
     "output_type": "stream",
     "text": [
      "r\n"
     ]
    }
   ],
   "source": [
    "#.mode\n",
    "with open('f6.txt',mode='r') as f:\n",
    "    print(f.mode)"
   ]
  },
  {
   "cell_type": "markdown",
   "id": "a22b112f-584e-461b-bf0d-e5815af70e2d",
   "metadata": {},
   "source": [
    "##### Advanced Reading"
   ]
  },
  {
   "cell_type": "code",
   "execution_count": 236,
   "id": "2b78960d-d786-4075-bbe4-9147205a101e",
   "metadata": {},
   "outputs": [
    {
     "name": "stdout",
     "output_type": "stream",
     "text": [
      "Hello worl\n"
     ]
    }
   ],
   "source": [
    "# file.read(size)\n",
    "with open('f6.txt',mode='r') as f:\n",
    "    print(f.read(10))"
   ]
  },
  {
   "cell_type": "code",
   "execution_count": 238,
   "id": "aa7a7bef-24b4-429d-a5df-885c535d4d07",
   "metadata": {},
   "outputs": [
    {
     "name": "stdout",
     "output_type": "stream",
     "text": [
      "Hello worl\n"
     ]
    }
   ],
   "source": [
    "with open('f6.txt',mode='r') as f:\n",
    "    print(f.readline(10))"
   ]
  },
  {
   "cell_type": "markdown",
   "id": "7096f70c-145e-48e3-8001-c987a143b658",
   "metadata": {},
   "source": [
    "##### Advanced Writing techniques"
   ]
  },
  {
   "cell_type": "code",
   "execution_count": 251,
   "id": "060ddc9d-827a-472c-ad9e-7eba7d0d3d2a",
   "metadata": {},
   "outputs": [],
   "source": [
    "f = open('example.txt',mode='w+') "
   ]
  },
  {
   "cell_type": "code",
   "execution_count": 253,
   "id": "7ca9db91-61be-46a6-98f7-51c06f6fd8e5",
   "metadata": {},
   "outputs": [
    {
     "data": {
      "text/plain": [
       "11"
      ]
     },
     "execution_count": 253,
     "metadata": {},
     "output_type": "execute_result"
    }
   ],
   "source": [
    "f.write(\"Hello world\")"
   ]
  },
  {
   "cell_type": "code",
   "execution_count": 257,
   "id": "b3f00ddf-fb8f-405f-ac27-79ec74b0521b",
   "metadata": {},
   "outputs": [
    {
     "data": {
      "text/plain": [
       "0"
      ]
     },
     "execution_count": 257,
     "metadata": {},
     "output_type": "execute_result"
    }
   ],
   "source": [
    "f.seek(0)"
   ]
  },
  {
   "cell_type": "code",
   "execution_count": 259,
   "id": "5443adb4-280e-4de4-bf96-2a9acc13b63d",
   "metadata": {},
   "outputs": [
    {
     "data": {
      "text/plain": [
       "'Hello world'"
      ]
     },
     "execution_count": 259,
     "metadata": {},
     "output_type": "execute_result"
    }
   ],
   "source": [
    "f.read()"
   ]
  },
  {
   "cell_type": "code",
   "execution_count": 261,
   "id": "680002c2-ea00-4c99-ba5b-c6102e4b71d3",
   "metadata": {},
   "outputs": [
    {
     "data": {
      "text/plain": [
       "5"
      ]
     },
     "execution_count": 261,
     "metadata": {},
     "output_type": "execute_result"
    }
   ],
   "source": [
    "f.truncate(5)"
   ]
  },
  {
   "cell_type": "code",
   "execution_count": 265,
   "id": "454fec56-fdd3-4a73-9f5a-504538af86de",
   "metadata": {},
   "outputs": [
    {
     "data": {
      "text/plain": [
       "0"
      ]
     },
     "execution_count": 265,
     "metadata": {},
     "output_type": "execute_result"
    }
   ],
   "source": [
    "f.seek(0)"
   ]
  },
  {
   "cell_type": "code",
   "execution_count": 267,
   "id": "78c9e9b4-ff66-4c49-98bd-f0479ef9e014",
   "metadata": {},
   "outputs": [
    {
     "data": {
      "text/plain": [
       "'Hello'"
      ]
     },
     "execution_count": 267,
     "metadata": {},
     "output_type": "execute_result"
    }
   ],
   "source": [
    "f.read()"
   ]
  },
  {
   "cell_type": "code",
   "execution_count": 270,
   "id": "13d807e3-1304-4738-aefe-70e8ba251600",
   "metadata": {},
   "outputs": [],
   "source": [
    "f.close()"
   ]
  },
  {
   "cell_type": "markdown",
   "id": "28096ddc-c6c7-43f1-bfc3-36552138449e",
   "metadata": {},
   "source": [
    "##### File Attributes"
   ]
  },
  {
   "cell_type": "code",
   "execution_count": 272,
   "id": "2428efcb-3b03-4f00-a504-f73a78ed6b1b",
   "metadata": {},
   "outputs": [
    {
     "data": {
      "text/plain": [
       "'cp1252'"
      ]
     },
     "execution_count": 272,
     "metadata": {},
     "output_type": "execute_result"
    }
   ],
   "source": [
    "f = open(\"example.txt\",'r')\n",
    "f.encoding"
   ]
  },
  {
   "cell_type": "code",
   "execution_count": 274,
   "id": "e2e66c90-c03f-479f-91ad-ef8be2b08b62",
   "metadata": {},
   "outputs": [],
   "source": [
    "f.close()"
   ]
  },
  {
   "cell_type": "markdown",
   "id": "b0ddf668-51e8-4966-8ac7-9d87e89a453b",
   "metadata": {},
   "source": [
    "##### Temporary files\n",
    "- for temporary file handling, use the tempfile module"
   ]
  },
  {
   "cell_type": "code",
   "execution_count": 280,
   "id": "d981a88d-cc9e-4fbe-89b2-46e94e1e0bbe",
   "metadata": {},
   "outputs": [
    {
     "name": "stdout",
     "output_type": "stream",
     "text": [
      "Temporary data\n"
     ]
    }
   ],
   "source": [
    "import tempfile\n",
    "with tempfile.TemporaryFile(mode=\"w+\") as temp_file:\n",
    "    temp_file.write(\"Temporary data\")\n",
    "    temp_file.seek(0)\n",
    "    print(temp_file.read())"
   ]
  },
  {
   "cell_type": "markdown",
   "id": "f0b6ff35-3003-41f0-8970-81320a53871a",
   "metadata": {},
   "source": [
    "##### Delete a file from python"
   ]
  },
  {
   "cell_type": "code",
   "execution_count": 283,
   "id": "5a550f7b-31bd-403d-ae7b-caa3e3ccc0dc",
   "metadata": {},
   "outputs": [
    {
     "name": "stdout",
     "output_type": "stream",
     "text": [
      "example.txt has been deleted.\n"
     ]
    }
   ],
   "source": [
    "import os\n",
    "\n",
    "# Specify the file to be deleted\n",
    "file_path = \"example.txt\"\n",
    "\n",
    "# Check if the file exists before deleting\n",
    "if os.path.exists(file_path):\n",
    "    os.remove(file_path)\n",
    "    print(f\"{file_path} has been deleted.\")"
   ]
  },
  {
   "cell_type": "code",
   "execution_count": null,
   "id": "336561ec-76f4-4fb1-8338-2eddef2820cf",
   "metadata": {},
   "outputs": [],
   "source": []
  }
 ],
 "metadata": {
  "kernelspec": {
   "display_name": "Python 3 (ipykernel)",
   "language": "python",
   "name": "python3"
  },
  "language_info": {
   "codemirror_mode": {
    "name": "ipython",
    "version": 3
   },
   "file_extension": ".py",
   "mimetype": "text/x-python",
   "name": "python",
   "nbconvert_exporter": "python",
   "pygments_lexer": "ipython3",
   "version": "3.12.4"
  }
 },
 "nbformat": 4,
 "nbformat_minor": 5
}
